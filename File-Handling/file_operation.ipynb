{
 "cells": [
  {
   "cell_type": "code",
   "execution_count": 26,
   "metadata": {},
   "outputs": [
    {
     "name": "stdout",
     "output_type": "stream",
     "text": [
      "Hi, new file testing!\n"
     ]
    }
   ],
   "source": [
    "### Read a whole file\n",
    "with open('example.txt', 'r') as file:\n",
    "    content = file.read()\n",
    "    print(content)"
   ]
  },
  {
   "cell_type": "code",
   "execution_count": 27,
   "metadata": {},
   "outputs": [
    {
     "name": "stdout",
     "output_type": "stream",
     "text": [
      "Hi, new file testing!\n"
     ]
    }
   ],
   "source": [
    "### Read a file line by line\n",
    "with open('example.txt', 'r') as file:\n",
    "    for line in file:\n",
    "        print(line.strip())  ##strip is to remove the unwanted extra line"
   ]
  },
  {
   "cell_type": "code",
   "execution_count": 28,
   "metadata": {},
   "outputs": [],
   "source": [
    "### Writing a file(overwriting)\n",
    "with open('example.txt', 'w') as file:\n",
    "    file.write('Keep doing... \\n')\n",
    "    file.write('You can do it \\n')"
   ]
  },
  {
   "cell_type": "code",
   "execution_count": 29,
   "metadata": {},
   "outputs": [],
   "source": [
    "## Write a file (Without overwriting)\n",
    "with open('example.txt', 'a') as file:  #a -> append(so it'll ass the text with existing text in file)\n",
    "    file.write(\"Wonderfull...\")"
   ]
  },
  {
   "cell_type": "code",
   "execution_count": 30,
   "metadata": {},
   "outputs": [
    {
     "name": "stdout",
     "output_type": "stream",
     "text": [
      "Lines : 3, Words : 7, Characters : 43\n"
     ]
    }
   ],
   "source": [
    "## read the lines and words in the file\n",
    "\n",
    "def count_text_file(file_path) :\n",
    "    with open(file_path, 'r') as file:\n",
    "        lines = file.readlines()\n",
    "        line_count = len(lines)\n",
    "        word_count = sum(len(line.split()) for line in lines)\n",
    "        char_count = sum(len(line) for line in lines)\n",
    "    return line_count, word_count, char_count\n",
    "\n",
    "_file_path = 'example.txt'\n",
    "lines, words, characters = count_text_file(_file_path)\n",
    "print(f'Lines : {lines}, Words : {words}, Characters : {characters}')"
   ]
  },
  {
   "cell_type": "code",
   "execution_count": 31,
   "metadata": {},
   "outputs": [
    {
     "name": "stdout",
     "output_type": "stream",
     "text": [
      "Hello world \n",
      "This is a new line \n",
      "\n"
     ]
    }
   ],
   "source": [
    "## Writing and then reading file\n",
    "with open('example.txt', 'w+') as file:\n",
    "    file.write(\"Hello world \\n\")\n",
    "    file.write(\"This is a new line \\n\")\n",
    "\n",
    "    ##Move the file cursor to the beginning\n",
    "    file.seek(0)  ## to move the cursor to the first line after adding the content\n",
    "\n",
    "    ## Read the content of the file\n",
    "    content = file.read()\n",
    "    print(content)"
   ]
  }
 ],
 "metadata": {
  "kernelspec": {
   "display_name": "myenv",
   "language": "python",
   "name": "python3"
  },
  "language_info": {
   "codemirror_mode": {
    "name": "ipython",
    "version": 3
   },
   "file_extension": ".py",
   "mimetype": "text/x-python",
   "name": "python",
   "nbconvert_exporter": "python",
   "pygments_lexer": "ipython3",
   "version": "3.12.6"
  }
 },
 "nbformat": 4,
 "nbformat_minor": 2
}
